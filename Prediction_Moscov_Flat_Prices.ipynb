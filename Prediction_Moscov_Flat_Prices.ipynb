{
 "cells": [
  {
   "cell_type": "markdown",
   "id": "af820258",
   "metadata": {},
   "source": [
    "# Preparing model for prediction of Moscov flat prices"
   ]
  },
  {
   "cell_type": "markdown",
   "id": "c4a8fec9",
   "metadata": {},
   "source": [
    "## Import libraries"
   ]
  },
  {
   "cell_type": "code",
   "execution_count": null,
   "id": "fa84f69c",
   "metadata": {},
   "outputs": [],
   "source": [
    "import pandas as pd\n",
    "import numpy as np\n",
    "import xgboost as xgb\n",
    "import lightgbm as lgb\n",
    "import catboost as ctb\n",
    "\n",
    "np.random.seed(0)\n",
    "\n",
    "import matplotlib.pyplot as plt\n",
    "\n",
    "from sklearn.model_selection import learning_curve\n",
    "from sklearn.model_selection import KFold\n",
    "from scikitplot.estimators import plot_learning_curve\n",
    "\n",
    "from sklearn.tree import DecisionTreeRegressor\n",
    "from sklearn.ensemble import RandomForestRegressor, ExtraTreesRegressor\n",
    "\n",
    "from sklearn.model_selection import KFold\n",
    "from sklearn.metrics import mean_squared_error\n",
    "from sklearn.metrics import mean_absolute_error\n",
    "\n",
    "%matplotlib inline"
   ]
  },
  {
   "cell_type": "markdown",
   "id": "b0af6cec",
   "metadata": {},
   "source": [
    "## Import data"
   ]
  },
  {
   "cell_type": "code",
   "execution_count": null,
   "id": "c6b9a83a",
   "metadata": {},
   "outputs": [],
   "source": [
    "train = pd.read_hdf('../input/property.train.h5')\n",
    "test = pd.read_hdf('../input/property.test.h5') #test data without target values\n",
    "\n",
    "#concat train & test and next factorize data\n",
    "df_all = pd.concat([train, test], axis=0)\n",
    "print(\"train & test: \", train.shape, test.shape)\n",
    "\n",
    "\n",
    "#extracting categorical features\n",
    "\n",
    "black_list = ['Fridge:', 'Furniture:', 'It is possible to bargain:', 'Floor covering:','Kitchen furniture:', 'TV:',\n",
    "              'Washing machine:', 'Foundation type:', 'Overlap type:',\n",
    "              'Type of the building:', 'Playground:'] #contain not important features\n",
    "\n",
    "factorize_feats = [f for f in train.columns if \":\" in f]\n",
    "factorize_feats_light = [f for f in factorize_feats if f not in black_list]\n",
    "for feat in factorize_feats_light:\n",
    "    df_all[\"{}_cat\".format(feat)] = df_all[feat].factorize()[0]"
   ]
  },
  {
   "cell_type": "markdown",
   "id": "283070b3",
   "metadata": {},
   "source": [
    "## Feature engineering"
   ]
  },
  {
   "cell_type": "code",
   "execution_count": null,
   "id": "4458d095",
   "metadata": {},
   "outputs": [],
   "source": [
    "#extracting index 0 from geo_bloc i breadcrumbs\n",
    "df_all['geo_block_0'] = df_all['geo_block'].map(lambda x: x[0])\n",
    "df_all['breadcrumbs_0'] = df_all['breadcrumbs'].map(lambda x: x[0])\n",
    "\n",
    "ff_0 = [f for f in df_all.columns if '_0' in f]\n",
    "for feat in ff_0:\n",
    "    df_all[\"{}_cat\".format(feat)] = df_all[feat].factorize()[0]"
   ]
  },
  {
   "cell_type": "code",
   "execution_count": null,
   "id": "f1c2adcb",
   "metadata": {},
   "outputs": [],
   "source": [
    "#extracting index 1 from geo_bloc & breadcrumbs & date\n",
    "df_all['geo_block_1'] = df_all['geo_block'].map(lambda x: x[1])\n",
    "df_all['breadcrumbs_1'] = df_all['breadcrumbs'].map(lambda x: x[1] if len(x) > 1 else -1)\n",
    "#df_all['date_1'] = df_all['date'].map(lambda x: x[1]) #decrease score of model\n",
    "\n",
    "ff_1 = [f for f in df_all.columns if '_1' in f]\n",
    "for feat in ff_1:\n",
    "    df_all[\"{}_cat\".format(feat)] = df_all[feat].factorize()[0]\n",
    "\n",
    "#extracting index 2 from geo_bloc & breadcrumbs\n",
    "df_all['geo_block_2'] = df_all['geo_block'].map(lambda x: x[2] if len(x) > 2 else -1)\n",
    "df_all['breadcrumbs_2'] = df_all['breadcrumbs'].map(lambda x: x[2] if len(x) > 2 else -1)\n",
    "\n",
    "ff_2 = [f for f in df_all.columns if '_2' in f]\n",
    "for feat in ff_2:\n",
    "    df_all[\"{}_cat\".format(feat)] = df_all[feat].factorize()[0]\n",
    "\n",
    "#extracting index 0 and 1 from geo_bloc & breadcrumbs together\n",
    "#df_all['geo_block_01'] = df_all['geo_block'].map(lambda x: x[0:2])\n",
    "#df_all['breadcrumbs_01'] = df_all['breadcrumbs'].map(lambda x: x[0:2])\n",
    "\n",
    "#conversion list to string type\n",
    "#def convert_list_to_string(org_list, seperator=' '):\n",
    "    #return seperator.join(org_list)\n",
    "\n",
    "#ff_3 = [f for f in df_all.columns if '_01' in f]\n",
    "#for feat in ff_3:\n",
    "    #df_all['{}_str'.format(feat)] = df_all[feat].map(lambda x: ' '.join(x))\n",
    "    \n",
    "#ff_4 = [f for f in df_all.columns if '_01_str' in f]\n",
    "#for feat in ff_4:\n",
    "    #df_all['{}_cat'.format(feat)] = df_all[feat].factorize()[0] # #decrease score of model\n",
    "\n",
    "df_all.info()"
   ]
  },
  {
   "cell_type": "markdown",
   "id": "aa3469b5",
   "metadata": {},
   "source": [
    "## Prepare feats,validation and fit XGBoost model"
   ]
  },
  {
   "cell_type": "code",
   "execution_count": null,
   "id": "457f51cc",
   "metadata": {},
   "outputs": [],
   "source": [
    "feats = [x for x in df_all.columns if \"_cat\" in x]\n",
    "print(\"feats: \", feats)\n",
    "\n",
    "# X & y \n",
    "df_train, df_test = df_all[ False == df_all[\"price\"].isnull()], df_all[ df_all[\"price\"].isnull()]\n",
    "X_train, X_test = df_train[feats].values, df_test[feats].values\n",
    "y_train = df_train[\"price\"].values\n",
    "\n",
    "#logarithm of y\n",
    "y_log_train = np.log(y_train)\n",
    "\n",
    "#validation of model on df_train\n",
    "from sklearn.metrics import mean_absolute_error\n",
    "\n",
    "X = df_train[feats].values\n",
    "y = np.log(df_train['price'].values)\n",
    "\n",
    "#choosed best model\n",
    "model = xgb.XGBRegressor(n_estimators=70, learning_rate=0.5, max_depth=8, random_state=0)\n",
    "\n",
    "#cross-validation\n",
    "cv = KFold(n_splits=5)\n",
    "\n",
    "#validation and fit XGBoost model\n",
    "scores = []\n",
    "for train_idx, test_idx in cv.split(X):\n",
    "    X_train, X_test = X[train_idx], X[test_idx]\n",
    "    y_train, y_test = y[train_idx], y[test_idx]\n",
    "\n",
    "    model.fit(X_train, y_train)\n",
    "    y_pred = model.predict(X_test)\n",
    "    \n",
    "    y_pred = np.exp(y_pred)\n",
    "    y_test = np.exp(y_test)\n",
    "\n",
    "    score = mean_absolute_error (y_test, y_pred)\n",
    "    scores.append( score )\n",
    "    \n",
    "    \n",
    "print(scores, np.mean(scores), np.std(scores))\n",
    "\n",
    "plot_learning_curve(model, X, y, cv=5, shuffle=True) #checking the overfitting of model"
   ]
  },
  {
   "cell_type": "markdown",
   "id": "f7236a47",
   "metadata": {},
   "source": [
    "## Extracting model with the best score"
   ]
  },
  {
   "cell_type": "code",
   "execution_count": null,
   "id": "1049f9eb",
   "metadata": {},
   "outputs": [],
   "source": [
    "cv.split(X)\n",
    "train_idx, test_idx = list(cv.split(X))[1][0], list(cv.split(X))[1][1]\n",
    "X_train, X_test = X[train_idx], X[test_idx]\n",
    "y_train, y_test = y[train_idx], y[test_idx]\n",
    "\n",
    "scores = []\n",
    "model.fit(X_train, y_train)\n",
    "y_pred = model.predict(X_test)\n",
    "    \n",
    "y_pred = np.exp(y_pred)\n",
    "y_test = np.exp(y_test)\n",
    "\n",
    "score = mean_absolute_error (y_test, y_pred)\n",
    "scores.append(score)\n",
    "    \n",
    "    \n",
    "print(scores, np.mean(scores), np.std(scores))"
   ]
  },
  {
   "cell_type": "markdown",
   "id": "88bbddc5",
   "metadata": {},
   "source": [
    "## Predict values on test data"
   ]
  },
  {
   "cell_type": "code",
   "execution_count": null,
   "id": "fa5d1d09",
   "metadata": {},
   "outputs": [],
   "source": [
    "#predict the values on test data\n",
    "X_train, X_test = df_train[feats].values, df_test[feats].values\n",
    "y_train = df_train[\"price\"].values\n",
    "y_log_train = np.log(y_train)\n",
    "\n",
    "print(\"predict\")\n",
    "y_log_pred = model.predict(X_test)\n",
    "#y_pred[y_pred<0] = y_train.min()\n",
    "y_pred = np.exp(y_log_pred)\n",
    "\n",
    "print(\"save file\")\n",
    "test['price'] = y_pred\n",
    "\n",
    "#save the results for kaggel competition\n",
    "test[ ['id', 'price'] ].to_csv('rg_v14_xgboost.csv', index=False)"
   ]
  }
 ],
 "metadata": {
  "kernelspec": {
   "display_name": "Python 3",
   "language": "python",
   "name": "python3"
  },
  "language_info": {
   "codemirror_mode": {
    "name": "ipython",
    "version": 3
   },
   "file_extension": ".py",
   "mimetype": "text/x-python",
   "name": "python",
   "nbconvert_exporter": "python",
   "pygments_lexer": "ipython3",
   "version": "3.7.7"
  }
 },
 "nbformat": 4,
 "nbformat_minor": 5
}
